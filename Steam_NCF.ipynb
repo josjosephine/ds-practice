{
  "cells": [
    {
      "cell_type": "markdown",
      "metadata": {
        "id": "pxb1KFkn5DsA"
      },
      "source": [
        ""
      ]
    },
    {
      "cell_type": "markdown",
      "metadata": {
        "id": "Jw8nPaRgTwFz"
      },
      "source": [
        "# Steam Game Recommendation with Neural Collaborative Filtering (NCF)"
      ]
    },
    {
      "cell_type": "code",
      "execution_count": null,
      "metadata": {
        "id": "scJJxsjs9j7Y"
      },
      "outputs": [],
      "source": [
        "## Author: Shuwen\n",
        "## Nov 20\n",
        "## Python version: 3.7.12"
      ]
    },
    {
      "cell_type": "code",
      "execution_count": null,
      "metadata": {
        "colab": {
          "base_uri": "https://localhost:8080/"
        },
        "id": "23TkGhJ0Ox_K",
        "outputId": "aac04e18-285f-4f08-9165-ec6cbd20af9e"
      },
      "outputs": [
        {
          "name": "stdout",
          "output_type": "stream",
          "text": [
            "Mounted at /content/drive\n"
          ]
        }
      ],
      "source": [
        "from google.colab import drive\n",
        "drive.mount('/content/drive')"
      ]
    },
    {
      "cell_type": "code",
      "execution_count": null,
      "metadata": {
        "id": "cu8o8AbvO2Lo"
      },
      "outputs": [],
      "source": [
        "# import libraries\n",
        "import numpy as np\n",
        "import pandas as pd\n",
        "import matplotlib.pyplot as plt\n",
        "from sklearn.metrics import mean_absolute_error\n",
        "#!pip install -q -U keras-tuner\n",
        "#import keras_tuner as kt\n",
        "from keras.layers import Dropout, Dense, Lambda, Activation, Embedding, Input, merge, Reshape, Flatten\n",
        "import tensorflow.keras as ks\n",
        "import os\n",
        "import warnings\n",
        "warnings.filterwarnings('ignore')\n",
        "import keras\n",
        "from keras import backend as K\n",
        "from keras import initializers\n",
        "from keras.models import Model"
      ]
    },
    {
      "cell_type": "markdown",
      "metadata": {
        "id": "SOYcKHJQJM_w"
      },
      "source": [
        "## Load and prepare the data"
      ]
    },
    {
      "cell_type": "code",
      "execution_count": null,
      "metadata": {
        "colab": {
          "base_uri": "https://localhost:8080/",
          "height": 424
        },
        "id": "a1tWwN-rMit2",
        "outputId": "dea00585-6d19-426d-bedb-71dba9e4a382"
      },
      "outputs": [
        {
          "data": {
            "text/html": [
              "<div>\n",
              "<style scoped>\n",
              "    .dataframe tbody tr th:only-of-type {\n",
              "        vertical-align: middle;\n",
              "    }\n",
              "\n",
              "    .dataframe tbody tr th {\n",
              "        vertical-align: top;\n",
              "    }\n",
              "\n",
              "    .dataframe thead th {\n",
              "        text-align: right;\n",
              "    }\n",
              "</style>\n",
              "<table border=\"1\" class=\"dataframe\">\n",
              "  <thead>\n",
              "    <tr style=\"text-align: right;\">\n",
              "      <th></th>\n",
              "      <th>author_steamid</th>\n",
              "      <th>app_name</th>\n",
              "      <th>ratings</th>\n",
              "    </tr>\n",
              "  </thead>\n",
              "  <tbody>\n",
              "    <tr>\n",
              "      <th>0</th>\n",
              "      <td>76561198105266859</td>\n",
              "      <td>DRAGON BALL FighterZ</td>\n",
              "      <td>9</td>\n",
              "    </tr>\n",
              "    <tr>\n",
              "      <th>1</th>\n",
              "      <td>76561198121009893</td>\n",
              "      <td>DRAGON BALL FighterZ</td>\n",
              "      <td>5</td>\n",
              "    </tr>\n",
              "    <tr>\n",
              "      <th>2</th>\n",
              "      <td>76561198131795034</td>\n",
              "      <td>DRAGON BALL FighterZ</td>\n",
              "      <td>8</td>\n",
              "    </tr>\n",
              "    <tr>\n",
              "      <th>3</th>\n",
              "      <td>76561199005382787</td>\n",
              "      <td>DRAGON BALL FighterZ</td>\n",
              "      <td>7</td>\n",
              "    </tr>\n",
              "    <tr>\n",
              "      <th>4</th>\n",
              "      <td>76561198043105675</td>\n",
              "      <td>DRAGON BALL FighterZ</td>\n",
              "      <td>8</td>\n",
              "    </tr>\n",
              "    <tr>\n",
              "      <th>...</th>\n",
              "      <td>...</td>\n",
              "      <td>...</td>\n",
              "      <td>...</td>\n",
              "    </tr>\n",
              "    <tr>\n",
              "      <th>289146</th>\n",
              "      <td>76561198340055643</td>\n",
              "      <td>HITMAN™ 2</td>\n",
              "      <td>7</td>\n",
              "    </tr>\n",
              "    <tr>\n",
              "      <th>289147</th>\n",
              "      <td>76561197967769194</td>\n",
              "      <td>HITMAN™ 2</td>\n",
              "      <td>9</td>\n",
              "    </tr>\n",
              "    <tr>\n",
              "      <th>289148</th>\n",
              "      <td>76561197994883935</td>\n",
              "      <td>HITMAN™ 2</td>\n",
              "      <td>6</td>\n",
              "    </tr>\n",
              "    <tr>\n",
              "      <th>289149</th>\n",
              "      <td>76561198046164510</td>\n",
              "      <td>HITMAN™ 2</td>\n",
              "      <td>10</td>\n",
              "    </tr>\n",
              "    <tr>\n",
              "      <th>289150</th>\n",
              "      <td>76561198844780086</td>\n",
              "      <td>HITMAN™ 2</td>\n",
              "      <td>10</td>\n",
              "    </tr>\n",
              "  </tbody>\n",
              "</table>\n",
              "<p>289151 rows × 3 columns</p>\n",
              "</div>"
            ],
            "text/plain": [
              "           author_steamid              app_name  ratings\n",
              "0       76561198105266859  DRAGON BALL FighterZ        9\n",
              "1       76561198121009893  DRAGON BALL FighterZ        5\n",
              "2       76561198131795034  DRAGON BALL FighterZ        8\n",
              "3       76561199005382787  DRAGON BALL FighterZ        7\n",
              "4       76561198043105675  DRAGON BALL FighterZ        8\n",
              "...                   ...                   ...      ...\n",
              "289146  76561198340055643             HITMAN™ 2        7\n",
              "289147  76561197967769194             HITMAN™ 2        9\n",
              "289148  76561197994883935             HITMAN™ 2        6\n",
              "289149  76561198046164510             HITMAN™ 2       10\n",
              "289150  76561198844780086             HITMAN™ 2       10\n",
              "\n",
              "[289151 rows x 3 columns]"
            ]
          },
          "execution_count": 60,
          "metadata": {},
          "output_type": "execute_result"
        }
      ],
      "source": [
        "# load dataset\n",
        "ratings_df = pd.read_csv('/content/drive/My Drive/recsys/steam_reviews_rating.csv', sep = ',')\n",
        "ratings_df"
      ]
    },
    {
      "cell_type": "code",
      "execution_count": null,
      "metadata": {
        "colab": {
          "base_uri": "https://localhost:8080/",
          "height": 206
        },
        "id": "MnamoQggBEJC",
        "outputId": "77fed019-7c74-422d-c892-20057846d0a9"
      },
      "outputs": [
        {
          "data": {
            "text/html": [
              "<div>\n",
              "<style scoped>\n",
              "    .dataframe tbody tr th:only-of-type {\n",
              "        vertical-align: middle;\n",
              "    }\n",
              "\n",
              "    .dataframe tbody tr th {\n",
              "        vertical-align: top;\n",
              "    }\n",
              "\n",
              "    .dataframe thead th {\n",
              "        text-align: right;\n",
              "    }\n",
              "</style>\n",
              "<table border=\"1\" class=\"dataframe\">\n",
              "  <thead>\n",
              "    <tr style=\"text-align: right;\">\n",
              "      <th></th>\n",
              "      <th>author_steamid</th>\n",
              "      <th>app_name</th>\n",
              "      <th>ratings</th>\n",
              "      <th>item_id</th>\n",
              "    </tr>\n",
              "  </thead>\n",
              "  <tbody>\n",
              "    <tr>\n",
              "      <th>0</th>\n",
              "      <td>76561198105266859</td>\n",
              "      <td>DRAGON BALL FighterZ</td>\n",
              "      <td>9</td>\n",
              "      <td>58</td>\n",
              "    </tr>\n",
              "    <tr>\n",
              "      <th>1</th>\n",
              "      <td>76561198121009893</td>\n",
              "      <td>DRAGON BALL FighterZ</td>\n",
              "      <td>5</td>\n",
              "      <td>58</td>\n",
              "    </tr>\n",
              "    <tr>\n",
              "      <th>2</th>\n",
              "      <td>76561198131795034</td>\n",
              "      <td>DRAGON BALL FighterZ</td>\n",
              "      <td>8</td>\n",
              "      <td>58</td>\n",
              "    </tr>\n",
              "    <tr>\n",
              "      <th>3</th>\n",
              "      <td>76561199005382787</td>\n",
              "      <td>DRAGON BALL FighterZ</td>\n",
              "      <td>7</td>\n",
              "      <td>58</td>\n",
              "    </tr>\n",
              "    <tr>\n",
              "      <th>4</th>\n",
              "      <td>76561198043105675</td>\n",
              "      <td>DRAGON BALL FighterZ</td>\n",
              "      <td>8</td>\n",
              "      <td>58</td>\n",
              "    </tr>\n",
              "  </tbody>\n",
              "</table>\n",
              "</div>"
            ],
            "text/plain": [
              "      author_steamid              app_name  ratings  item_id\n",
              "0  76561198105266859  DRAGON BALL FighterZ        9       58\n",
              "1  76561198121009893  DRAGON BALL FighterZ        5       58\n",
              "2  76561198131795034  DRAGON BALL FighterZ        8       58\n",
              "3  76561199005382787  DRAGON BALL FighterZ        7       58\n",
              "4  76561198043105675  DRAGON BALL FighterZ        8       58"
            ]
          },
          "execution_count": 61,
          "metadata": {},
          "output_type": "execute_result"
        }
      ],
      "source": [
        "# assign an item id to each item\n",
        "item_ids = np.sort(ratings_df[\"app_name\"].unique()).tolist()\n",
        "imap = {x: i for i, x in enumerate(item_ids)}\n",
        "ratings_df[\"item_id\"] = ratings_df[\"app_name\"].map(imap)\n",
        "ratings_df.head(5)"
      ]
    },
    {
      "cell_type": "code",
      "execution_count": null,
      "metadata": {
        "colab": {
          "base_uri": "https://localhost:8080/",
          "height": 424
        },
        "id": "bveuyGqogOg7",
        "outputId": "7591cd0f-59ad-4720-95b4-91d8b66663e0"
      },
      "outputs": [
        {
          "data": {
            "text/html": [
              "<div>\n",
              "<style scoped>\n",
              "    .dataframe tbody tr th:only-of-type {\n",
              "        vertical-align: middle;\n",
              "    }\n",
              "\n",
              "    .dataframe tbody tr th {\n",
              "        vertical-align: top;\n",
              "    }\n",
              "\n",
              "    .dataframe thead th {\n",
              "        text-align: right;\n",
              "    }\n",
              "</style>\n",
              "<table border=\"1\" class=\"dataframe\">\n",
              "  <thead>\n",
              "    <tr style=\"text-align: right;\">\n",
              "      <th></th>\n",
              "      <th>author_steamid</th>\n",
              "      <th>app_name</th>\n",
              "      <th>ratings</th>\n",
              "      <th>item_id</th>\n",
              "    </tr>\n",
              "  </thead>\n",
              "  <tbody>\n",
              "    <tr>\n",
              "      <th>0</th>\n",
              "      <td>76561198105266859</td>\n",
              "      <td>DRAGON BALL FighterZ</td>\n",
              "      <td>9</td>\n",
              "      <td>58</td>\n",
              "    </tr>\n",
              "    <tr>\n",
              "      <th>1</th>\n",
              "      <td>76561198121009893</td>\n",
              "      <td>DRAGON BALL FighterZ</td>\n",
              "      <td>5</td>\n",
              "      <td>58</td>\n",
              "    </tr>\n",
              "    <tr>\n",
              "      <th>2</th>\n",
              "      <td>76561198131795034</td>\n",
              "      <td>DRAGON BALL FighterZ</td>\n",
              "      <td>8</td>\n",
              "      <td>58</td>\n",
              "    </tr>\n",
              "    <tr>\n",
              "      <th>3</th>\n",
              "      <td>76561199005382787</td>\n",
              "      <td>DRAGON BALL FighterZ</td>\n",
              "      <td>7</td>\n",
              "      <td>58</td>\n",
              "    </tr>\n",
              "    <tr>\n",
              "      <th>4</th>\n",
              "      <td>76561198043105675</td>\n",
              "      <td>DRAGON BALL FighterZ</td>\n",
              "      <td>8</td>\n",
              "      <td>58</td>\n",
              "    </tr>\n",
              "    <tr>\n",
              "      <th>...</th>\n",
              "      <td>...</td>\n",
              "      <td>...</td>\n",
              "      <td>...</td>\n",
              "      <td>...</td>\n",
              "    </tr>\n",
              "    <tr>\n",
              "      <th>289146</th>\n",
              "      <td>76561198340055643</td>\n",
              "      <td>HITMAN™ 2</td>\n",
              "      <td>7</td>\n",
              "      <td>122</td>\n",
              "    </tr>\n",
              "    <tr>\n",
              "      <th>289147</th>\n",
              "      <td>76561197967769194</td>\n",
              "      <td>HITMAN™ 2</td>\n",
              "      <td>9</td>\n",
              "      <td>122</td>\n",
              "    </tr>\n",
              "    <tr>\n",
              "      <th>289148</th>\n",
              "      <td>76561197994883935</td>\n",
              "      <td>HITMAN™ 2</td>\n",
              "      <td>6</td>\n",
              "      <td>122</td>\n",
              "    </tr>\n",
              "    <tr>\n",
              "      <th>289149</th>\n",
              "      <td>76561198046164510</td>\n",
              "      <td>HITMAN™ 2</td>\n",
              "      <td>10</td>\n",
              "      <td>122</td>\n",
              "    </tr>\n",
              "    <tr>\n",
              "      <th>289150</th>\n",
              "      <td>76561198844780086</td>\n",
              "      <td>HITMAN™ 2</td>\n",
              "      <td>10</td>\n",
              "      <td>122</td>\n",
              "    </tr>\n",
              "  </tbody>\n",
              "</table>\n",
              "<p>289145 rows × 4 columns</p>\n",
              "</div>"
            ],
            "text/plain": [
              "           author_steamid              app_name  ratings  item_id\n",
              "0       76561198105266859  DRAGON BALL FighterZ        9       58\n",
              "1       76561198121009893  DRAGON BALL FighterZ        5       58\n",
              "2       76561198131795034  DRAGON BALL FighterZ        8       58\n",
              "3       76561199005382787  DRAGON BALL FighterZ        7       58\n",
              "4       76561198043105675  DRAGON BALL FighterZ        8       58\n",
              "...                   ...                   ...      ...      ...\n",
              "289146  76561198340055643             HITMAN™ 2        7      122\n",
              "289147  76561197967769194             HITMAN™ 2        9      122\n",
              "289148  76561197994883935             HITMAN™ 2        6      122\n",
              "289149  76561198046164510             HITMAN™ 2       10      122\n",
              "289150  76561198844780086             HITMAN™ 2       10      122\n",
              "\n",
              "[289145 rows x 4 columns]"
            ]
          },
          "execution_count": 62,
          "metadata": {},
          "output_type": "execute_result"
        }
      ],
      "source": [
        "## active players = players who rated >= 15 games\n",
        "group1 = ratings_df.groupby(['author_steamid'])['app_name'].count().reset_index()\n",
        "group1\n",
        "list1 = group1[group1['app_name']>=15]['author_steamid']\n",
        "list1\n",
        "## active games = games that have been played by >= 10 players\n",
        "group2 = ratings_df['author_steamid'].groupby(ratings_df['app_name']).count().reset_index()\n",
        "list2 = group2[(group2['author_steamid'] >=10)]['app_name']\n",
        "list2\n",
        "\n",
        "## combine above 2 conditions\n",
        "ratings_df = ratings_df[(ratings_df['author_steamid'].isin(list1)) & (ratings_df['app_name'].isin(list2))]\n",
        "ratings_df"
      ]
    },
    {
      "cell_type": "code",
      "execution_count": null,
      "metadata": {
        "colab": {
          "base_uri": "https://localhost:8080/",
          "height": 206
        },
        "id": "ameg9xmWDiur",
        "outputId": "3dc666a5-a43f-4039-b667-94270e897c48"
      },
      "outputs": [
        {
          "data": {
            "text/html": [
              "<div>\n",
              "<style scoped>\n",
              "    .dataframe tbody tr th:only-of-type {\n",
              "        vertical-align: middle;\n",
              "    }\n",
              "\n",
              "    .dataframe tbody tr th {\n",
              "        vertical-align: top;\n",
              "    }\n",
              "\n",
              "    .dataframe thead th {\n",
              "        text-align: right;\n",
              "    }\n",
              "</style>\n",
              "<table border=\"1\" class=\"dataframe\">\n",
              "  <thead>\n",
              "    <tr style=\"text-align: right;\">\n",
              "      <th></th>\n",
              "      <th>user_id</th>\n",
              "      <th>app_name</th>\n",
              "      <th>rating</th>\n",
              "      <th>item_id</th>\n",
              "    </tr>\n",
              "  </thead>\n",
              "  <tbody>\n",
              "    <tr>\n",
              "      <th>0</th>\n",
              "      <td>76561198105266859</td>\n",
              "      <td>DRAGON BALL FighterZ</td>\n",
              "      <td>9</td>\n",
              "      <td>58</td>\n",
              "    </tr>\n",
              "    <tr>\n",
              "      <th>1</th>\n",
              "      <td>76561198121009893</td>\n",
              "      <td>DRAGON BALL FighterZ</td>\n",
              "      <td>5</td>\n",
              "      <td>58</td>\n",
              "    </tr>\n",
              "    <tr>\n",
              "      <th>2</th>\n",
              "      <td>76561198131795034</td>\n",
              "      <td>DRAGON BALL FighterZ</td>\n",
              "      <td>8</td>\n",
              "      <td>58</td>\n",
              "    </tr>\n",
              "    <tr>\n",
              "      <th>3</th>\n",
              "      <td>76561199005382787</td>\n",
              "      <td>DRAGON BALL FighterZ</td>\n",
              "      <td>7</td>\n",
              "      <td>58</td>\n",
              "    </tr>\n",
              "    <tr>\n",
              "      <th>4</th>\n",
              "      <td>76561198043105675</td>\n",
              "      <td>DRAGON BALL FighterZ</td>\n",
              "      <td>8</td>\n",
              "      <td>58</td>\n",
              "    </tr>\n",
              "  </tbody>\n",
              "</table>\n",
              "</div>"
            ],
            "text/plain": [
              "             user_id              app_name  rating item_id\n",
              "0  76561198105266859  DRAGON BALL FighterZ       9      58\n",
              "1  76561198121009893  DRAGON BALL FighterZ       5      58\n",
              "2  76561198131795034  DRAGON BALL FighterZ       8      58\n",
              "3  76561199005382787  DRAGON BALL FighterZ       7      58\n",
              "4  76561198043105675  DRAGON BALL FighterZ       8      58"
            ]
          },
          "execution_count": 63,
          "metadata": {},
          "output_type": "execute_result"
        }
      ],
      "source": [
        "# rename column and change data type\n",
        "ratings_df.columns = ['user_id','app_name','rating','item_id']\n",
        "ratings_df['item_id'] = ratings_df['item_id'].astype(str)\n",
        "ratings_df.head(5)"
      ]
    },
    {
      "cell_type": "code",
      "execution_count": null,
      "metadata": {
        "colab": {
          "base_uri": "https://localhost:8080/",
          "height": 424
        },
        "id": "WDJ-roikAB0W",
        "outputId": "c5a69d62-2df6-45fd-c044-e955a839d6c2"
      },
      "outputs": [
        {
          "data": {
            "text/html": [
              "<div>\n",
              "<style scoped>\n",
              "    .dataframe tbody tr th:only-of-type {\n",
              "        vertical-align: middle;\n",
              "    }\n",
              "\n",
              "    .dataframe tbody tr th {\n",
              "        vertical-align: top;\n",
              "    }\n",
              "\n",
              "    .dataframe thead th {\n",
              "        text-align: right;\n",
              "    }\n",
              "</style>\n",
              "<table border=\"1\" class=\"dataframe\">\n",
              "  <thead>\n",
              "    <tr style=\"text-align: right;\">\n",
              "      <th></th>\n",
              "      <th>user_id</th>\n",
              "      <th>app_name</th>\n",
              "      <th>rating</th>\n",
              "      <th>item_id</th>\n",
              "    </tr>\n",
              "  </thead>\n",
              "  <tbody>\n",
              "    <tr>\n",
              "      <th>0</th>\n",
              "      <td>76561198105266859</td>\n",
              "      <td>DRAGON BALL FighterZ</td>\n",
              "      <td>0.888889</td>\n",
              "      <td>58</td>\n",
              "    </tr>\n",
              "    <tr>\n",
              "      <th>1</th>\n",
              "      <td>76561198121009893</td>\n",
              "      <td>DRAGON BALL FighterZ</td>\n",
              "      <td>0.444444</td>\n",
              "      <td>58</td>\n",
              "    </tr>\n",
              "    <tr>\n",
              "      <th>2</th>\n",
              "      <td>76561198131795034</td>\n",
              "      <td>DRAGON BALL FighterZ</td>\n",
              "      <td>0.777778</td>\n",
              "      <td>58</td>\n",
              "    </tr>\n",
              "    <tr>\n",
              "      <th>3</th>\n",
              "      <td>76561199005382787</td>\n",
              "      <td>DRAGON BALL FighterZ</td>\n",
              "      <td>0.666667</td>\n",
              "      <td>58</td>\n",
              "    </tr>\n",
              "    <tr>\n",
              "      <th>4</th>\n",
              "      <td>76561198043105675</td>\n",
              "      <td>DRAGON BALL FighterZ</td>\n",
              "      <td>0.777778</td>\n",
              "      <td>58</td>\n",
              "    </tr>\n",
              "    <tr>\n",
              "      <th>...</th>\n",
              "      <td>...</td>\n",
              "      <td>...</td>\n",
              "      <td>...</td>\n",
              "      <td>...</td>\n",
              "    </tr>\n",
              "    <tr>\n",
              "      <th>289146</th>\n",
              "      <td>76561198340055643</td>\n",
              "      <td>HITMAN™ 2</td>\n",
              "      <td>0.666667</td>\n",
              "      <td>122</td>\n",
              "    </tr>\n",
              "    <tr>\n",
              "      <th>289147</th>\n",
              "      <td>76561197967769194</td>\n",
              "      <td>HITMAN™ 2</td>\n",
              "      <td>0.888889</td>\n",
              "      <td>122</td>\n",
              "    </tr>\n",
              "    <tr>\n",
              "      <th>289148</th>\n",
              "      <td>76561197994883935</td>\n",
              "      <td>HITMAN™ 2</td>\n",
              "      <td>0.555556</td>\n",
              "      <td>122</td>\n",
              "    </tr>\n",
              "    <tr>\n",
              "      <th>289149</th>\n",
              "      <td>76561198046164510</td>\n",
              "      <td>HITMAN™ 2</td>\n",
              "      <td>1.000000</td>\n",
              "      <td>122</td>\n",
              "    </tr>\n",
              "    <tr>\n",
              "      <th>289150</th>\n",
              "      <td>76561198844780086</td>\n",
              "      <td>HITMAN™ 2</td>\n",
              "      <td>1.000000</td>\n",
              "      <td>122</td>\n",
              "    </tr>\n",
              "  </tbody>\n",
              "</table>\n",
              "<p>289145 rows × 4 columns</p>\n",
              "</div>"
            ],
            "text/plain": [
              "                  user_id              app_name    rating item_id\n",
              "0       76561198105266859  DRAGON BALL FighterZ  0.888889      58\n",
              "1       76561198121009893  DRAGON BALL FighterZ  0.444444      58\n",
              "2       76561198131795034  DRAGON BALL FighterZ  0.777778      58\n",
              "3       76561199005382787  DRAGON BALL FighterZ  0.666667      58\n",
              "4       76561198043105675  DRAGON BALL FighterZ  0.777778      58\n",
              "...                   ...                   ...       ...     ...\n",
              "289146  76561198340055643             HITMAN™ 2  0.666667     122\n",
              "289147  76561197967769194             HITMAN™ 2  0.888889     122\n",
              "289148  76561197994883935             HITMAN™ 2  0.555556     122\n",
              "289149  76561198046164510             HITMAN™ 2  1.000000     122\n",
              "289150  76561198844780086             HITMAN™ 2  1.000000     122\n",
              "\n",
              "[289145 rows x 4 columns]"
            ]
          },
          "execution_count": 64,
          "metadata": {},
          "output_type": "execute_result"
        }
      ],
      "source": [
        "from sklearn.preprocessing import MinMaxScaler\n",
        "import numpy as np\n",
        "\n",
        "# apply min max normalization to rating\n",
        "ratings_df['rating'] = MinMaxScaler().fit_transform(np.array(ratings_df['rating']).reshape(-1,1))\n",
        "ratings_df"
      ]
    },
    {
      "cell_type": "code",
      "execution_count": null,
      "metadata": {
        "id": "86nAGEElBG-R"
      },
      "outputs": [],
      "source": [
        "# map the userids and itemids given in the rating events to contiguous integer indexes\n",
        "def mapdata(ratings_df):\n",
        "  ratings_df[\"item_id\"] = ratings_df[\"item_id\"].astype(str)\n",
        "  ratings_df[\"user_id\"] = ratings_df[\"user_id\"].astype(str)\n",
        "  ratings_df[\"rating\"]  = ratings_df[\"rating\"].values.astype(np.float32)\n",
        "  user_ids = np.sort(ratings_df[\"user_id\"].unique()).tolist()\n",
        "  umap = {x: i for i, x in enumerate(user_ids)}\n",
        "  item_ids = np.sort(ratings_df[\"item_id\"].unique()).tolist()\n",
        "  imap = {x: i for i, x in enumerate(item_ids)}\n",
        "  ratings_df[\"user_id\"] = ratings_df[\"user_id\"].map(umap) # swap userid for user index\n",
        "  ratings_df[\"item_id\"] = ratings_df[\"item_id\"].map(imap) # swap itemid for item index\n",
        "  return ratings_df, umap, imap"
      ]
    },
    {
      "cell_type": "code",
      "execution_count": null,
      "metadata": {
        "id": "bi1RkzzeO2XF"
      },
      "outputs": [],
      "source": [
        "ratings_df, umap, imap = mapdata(ratings_df)"
      ]
    },
    {
      "cell_type": "markdown",
      "metadata": {
        "id": "dYzLC4UNJZja"
      },
      "source": [
        "## Model Building and Evaluation"
      ]
    },
    {
      "cell_type": "code",
      "execution_count": null,
      "metadata": {
        "id": "S1H4vFyXO2aX"
      },
      "outputs": [],
      "source": [
        "# train/test split\n",
        "from sklearn.model_selection import train_test_split\n",
        "train, test = train_test_split(ratings_df, test_size=0.20, random_state=42)"
      ]
    },
    {
      "cell_type": "code",
      "execution_count": null,
      "metadata": {
        "id": "Rqzf0UTsO2iI"
      },
      "outputs": [],
      "source": [
        "# define the model\n",
        "def definemodel(nusers, nitems, embeddingsdim):\n",
        "    \n",
        "    #add 1 to the number of items & users because the embedding layers need an \n",
        "    #extra row for items & users that do not appear in the training dataset. \n",
        "    \n",
        "    # create item embedding layers\n",
        "    input_items = ks.layers.Input(shape=[1], name=\"item_input\")\n",
        "    embed_items = ks.layers.Embedding(nitems + 1, embeddingsdim, name=\"item_embedding\")(input_items)\n",
        "    items_flat  = ks.layers.Flatten()(embed_items)\n",
        "    \n",
        "    # create user embedding layers\n",
        "    input_users = ks.layers.Input(shape=[1], name=\"user_input\")\n",
        "    embed_users = ks.layers.Embedding(nusers + 1, embeddingsdim, name=\"user_embedding\")(input_users)\n",
        "    users_flat  = ks.layers.Flatten()(embed_users)\n",
        "\n",
        "    # predicted rating = dotproduct of user and item embeddings\n",
        "    # concatenate the user and item embeddings and use this as input into a 2-layer classification network\n",
        "    out  = ks.layers.Dot(name=\"dot-product\", axes=1)([items_flat, users_flat])\n",
        "    out = ks.layers.Concatenate()([items_flat, users_flat])\n",
        "    out = ks.layers.Dense(2, input_dim = 3, activation='sigmoid')(out) # Dense tried 2 to 128, input_dim tried 2-10, activation function tried reLu and sigmoid\n",
        "    out = ks.layers.Dropout(0.5)(out) # use Dropout to avoid overfitting, tried from 0.1 to 0.6\n",
        "    #out = ks.layers.BatchNormalization()(out) # also tried batch normalization to avoid overfitting, perform worse than dropout\n",
        "    out = ks.layers.Dense(1, activation='sigmoid')(out)\n",
        "\n",
        "    model = ks.Model([input_items, input_users], out)   \n",
        "    \n",
        "    return model"
      ]
    },
    {
      "cell_type": "code",
      "execution_count": null,
      "metadata": {
        "colab": {
          "base_uri": "https://localhost:8080/"
        },
        "id": "GWb4ZbOw_lf3",
        "outputId": "583e8834-309d-423a-c0f5-17f1277c9a9f"
      },
      "outputs": [
        {
          "name": "stdout",
          "output_type": "stream",
          "text": [
            "Model: \"model_1\"\n",
            "__________________________________________________________________________________________________\n",
            " Layer (type)                   Output Shape         Param #     Connected to                     \n",
            "==================================================================================================\n",
            " item_input (InputLayer)        [(None, 1)]          0           []                               \n",
            "                                                                                                  \n",
            " user_input (InputLayer)        [(None, 1)]          0           []                               \n",
            "                                                                                                  \n",
            " item_embedding (Embedding)     (None, 1, 3)         945         ['item_input[0][0]']             \n",
            "                                                                                                  \n",
            " user_embedding (Embedding)     (None, 1, 3)         44118       ['user_input[0][0]']             \n",
            "                                                                                                  \n",
            " flatten_2 (Flatten)            (None, 3)            0           ['item_embedding[0][0]']         \n",
            "                                                                                                  \n",
            " flatten_3 (Flatten)            (None, 3)            0           ['user_embedding[0][0]']         \n",
            "                                                                                                  \n",
            " concatenate_1 (Concatenate)    (None, 6)            0           ['flatten_2[0][0]',              \n",
            "                                                                  'flatten_3[0][0]']              \n",
            "                                                                                                  \n",
            " dense_2 (Dense)                (None, 2)            14          ['concatenate_1[0][0]']          \n",
            "                                                                                                  \n",
            " dropout_1 (Dropout)            (None, 2)            0           ['dense_2[0][0]']                \n",
            "                                                                                                  \n",
            " dense_3 (Dense)                (None, 1)            3           ['dropout_1[0][0]']              \n",
            "                                                                                                  \n",
            "==================================================================================================\n",
            "Total params: 45,080\n",
            "Trainable params: 45,080\n",
            "Non-trainable params: 0\n",
            "__________________________________________________________________________________________________\n"
          ]
        }
      ],
      "source": [
        "# compile the model  \n",
        "embeddingsdim = 3 # tried 2 to 15\n",
        "model = definemodel(len(umap), len(imap), embeddingsdim)\n",
        "model.compile(optimizer='adam', loss= 'mean_squared_error', metrics=['RootMeanSquaredError']) #optimizer also tried sgd # ks.metrics.MeanAbsoluteError()\n",
        "model.summary()"
      ]
    },
    {
      "cell_type": "code",
      "execution_count": null,
      "metadata": {
        "colab": {
          "background_save": true,
          "base_uri": "https://localhost:8080/"
        },
        "id": "Kr0hvQEmMpRk",
        "outputId": "38fd3450-8fe1-4b77-9d3a-f48d13e6a3a2"
      },
      "outputs": [
        {
          "name": "stdout",
          "output_type": "stream",
          "text": [
            "Epoch 1/5\n",
            "38553/38553 [==============================] - 81s 2ms/step - loss: 0.0472 - root_mean_squared_error: 0.2172 - val_loss: 0.0467 - val_root_mean_squared_error: 0.2162\n",
            "Epoch 2/5\n",
            "38553/38553 [==============================] - 81s 2ms/step - loss: 0.0471 - root_mean_squared_error: 0.2171 - val_loss: 0.0466 - val_root_mean_squared_error: 0.2160\n",
            "Epoch 3/5\n",
            "38553/38553 [==============================] - 80s 2ms/step - loss: 0.0471 - root_mean_squared_error: 0.2169 - val_loss: 0.0466 - val_root_mean_squared_error: 0.2158\n",
            "Epoch 4/5\n",
            "38553/38553 [==============================] - 79s 2ms/step - loss: 0.0470 - root_mean_squared_error: 0.2169 - val_loss: 0.0466 - val_root_mean_squared_error: 0.2159\n",
            "Epoch 5/5\n",
            "38553/38553 [==============================] - 79s 2ms/step - loss: 0.0470 - root_mean_squared_error: 0.2169 - val_loss: 0.0466 - val_root_mean_squared_error: 0.2160\n"
          ]
        }
      ],
      "source": [
        "# train the model, batch size try 4 to 64 \n",
        "hist = model.fit([train.item_id, train.user_id], train.rating, batch_size=6, epochs=5, verbose=1, \n",
        "                 validation_data=([test.item_id, test.user_id], test.rating))"
      ]
    },
    {
      "cell_type": "code",
      "execution_count": null,
      "metadata": {
        "colab": {
          "base_uri": "https://localhost:8080/",
          "height": 295
        },
        "id": "Y2xu17aJQjsj",
        "outputId": "2d77bdbe-3a6a-4ab8-c002-8f46c613ca3c"
      },
      "outputs": [
        {
          "data": {
            "image/png": "[encoded data removed]",
            "text/plain": [
              "<Figure size 432x288 with 1 Axes>"
            ]
          },
          "metadata": {},
          "output_type": "display_data"
        }
      ],
      "source": [
        "# display the model training history\n",
        "train_loss = hist.history['loss']\n",
        "val_loss = hist.history['val_loss']\n",
        "epochs = range(1, len(train_loss) + 1)\n",
        "plt.plot(epochs, train_loss, color='r', label='Training Loss')\n",
        "plt.plot(epochs, val_loss, color='b', label='Validation Loss')\n",
        "plt.title(\"Training and Validation Loss Curve (Loss = Mean Squared Error)\")\n",
        "plt.xlabel('Epochs')\n",
        "plt.ylabel('Loss')\n",
        "plt.legend()\n",
        "plt.show()"
      ]
    },
    {
      "cell_type": "code",
      "execution_count": null,
      "metadata": {
        "colab": {
          "base_uri": "https://localhost:8080/",
          "height": 312
        },
        "id": "uml-KfyMQyDG",
        "outputId": "0a503247-97e5-441f-f5e5-3b2535d757ac"
      },
      "outputs": [
        {
          "data": {
            "text/plain": [
              "<matplotlib.legend.Legend at 0x7f3bf3b48190>"
            ]
          },
          "execution_count": 72,
          "metadata": {},
          "output_type": "execute_result"
        },
        {
          "data": {
            "image/png": "[encoded data removed]",
            "text/plain": [
              "<Figure size 432x288 with 1 Axes>"
            ]
          },
          "metadata": {},
          "output_type": "display_data"
        }
      ],
      "source": [
        "# RMSE plot\n",
        "train_rmse = hist.history['root_mean_squared_error']\n",
        "val_rmse = hist.history['val_root_mean_squared_error']\n",
        "epochs = range(1, len(train_rmse) + 1)\n",
        "plt.plot(epochs, train_rmse, color='r', label='Training rmse')\n",
        "plt.plot(epochs, val_rmse, color='b', label='Validation rmse')\n",
        "plt.title(\"Training and Validation RMSE Curve\")\n",
        "plt.xlabel('Epochs')\n",
        "plt.ylabel('RMSE')\n",
        "plt.legend()"
      ]
    },
    {
      "cell_type": "code",
      "execution_count": null,
      "metadata": {
        "colab": {
          "base_uri": "https://localhost:8080/",
          "height": 754
        },
        "id": "XDoIsT3MgmIv",
        "outputId": "2e251bc7-c6d3-4efb-b74b-ee5127cff565"
      },
      "outputs": [
        {
          "data": {
            "image/png": "[encoded data removed]",
            "text/plain": [
              "<IPython.core.display.Image object>"
            ]
          },
          "execution_count": 33,
          "metadata": {},
          "output_type": "execute_result"
        }
      ],
      "source": [
        "ks.utils.plot_model(model, \n",
        "                    to_file=\"model.png\", \n",
        "                    show_shapes=True,\n",
        "                    show_layer_names=True,\n",
        "                    expand_nested=True)"
      ]
    },
    {
      "cell_type": "code",
      "execution_count": null,
      "metadata": {
        "colab": {
          "base_uri": "https://localhost:8080/"
        },
        "id": "GJw4nv6t9_qz",
        "outputId": "22e548dc-34f4-4431-9640-95ed05c24c50"
      },
      "outputs": [
        {
          "name": "stdout",
          "output_type": "stream",
          "text": [
            "actual= 0.7777778 pred= 0.73021674 abserr= 0.04756105\n",
            "actual= 0.44444445 pred= 0.6153358 abserr= 0.17089137\n",
            "actual= 1.0 pred= 0.7138541 abserr= 0.28614593\n",
            "actual= 0.11111111 pred= 0.5885036 abserr= 0.4773925\n",
            "actual= 0.5555556 pred= 0.7696742 abserr= 0.2141186\n",
            "MAE= 0.1640256\n"
          ]
        }
      ],
      "source": [
        "# compute train MAE\n",
        "predictions1 = model.predict([train.item_id, train.user_id])\n",
        "\n",
        "# show a sample of the predictions\n",
        "for i in range(0,5):\n",
        "  print(\"actual=\",train.rating.iloc[i],\"pred=\",predictions1[i][0], \"abserr=\",abs(train.rating.iloc[i]-predictions1[i][0])) \n",
        "  \n",
        "# compute MAE - how accurate\n",
        "print(\"MAE=\",mean_absolute_error(train.rating, predictions1))"
      ]
    },
    {
      "cell_type": "code",
      "execution_count": null,
      "metadata": {
        "colab": {
          "base_uri": "https://localhost:8080/"
        },
        "id": "X1EcFys2Tlnj",
        "outputId": "6c605bb0-b0c2-4a5c-ed87-ee8585ba1bd3"
      },
      "outputs": [
        {
          "name": "stdout",
          "output_type": "stream",
          "text": [
            "actual= 1.0 pred= 0.7298455 abserr= 0.27015448\n",
            "actual= 0.7777778 pred= 0.7917532 abserr= 0.013975382\n",
            "actual= 0.5555556 pred= 0.8030648 abserr= 0.24750924\n",
            "actual= 0.7777778 pred= 0.7965945 abserr= 0.01881671\n",
            "actual= 0.6666667 pred= 0.7317101 abserr= 0.06504339\n",
            "MAE= 0.1693204\n"
          ]
        }
      ],
      "source": [
        "# test the model\n",
        "predictions = model.predict([test.item_id, test.user_id])\n",
        "\n",
        "# show a sample of the predictions\n",
        "for i in range(0,5):\n",
        "  print(\"actual=\",test.rating.iloc[i],\"pred=\",predictions[i][0], \"abserr=\",abs(test.rating.iloc[i]-predictions[i][0])) \n",
        "  \n",
        "# compute MAE - how accurate\n",
        "print(\"MAE=\",mean_absolute_error(test.rating, predictions))"
      ]
    },
    {
      "cell_type": "code",
      "execution_count": null,
      "metadata": {
        "colab": {
          "base_uri": "https://localhost:8080/"
        },
        "id": "6Ui4mkuKTlqB",
        "outputId": "08e91bae-0501-4a51-8f05-5ddc09069a34"
      },
      "outputs": [
        {
          "name": "stdout",
          "output_type": "stream",
          "text": [
            "1808/1808 [==============================] - 2s 1ms/step - loss: 0.0457 - root_mean_squared_error: 0.2138\n"
          ]
        },
        {
          "data": {
            "text/plain": [
              "[0.04572966322302818, 0.21384495496749878]"
            ]
          },
          "execution_count": 18,
          "metadata": {},
          "output_type": "execute_result"
        }
      ],
      "source": [
        "# test the model (alternative method)\n",
        "# compute the metrics defined when the model was compiled\n",
        "model.evaluate([test['item_id'],test['user_id']],test['rating'])"
      ]
    },
    {
      "cell_type": "code",
      "execution_count": null,
      "metadata": {
        "colab": {
          "base_uri": "https://localhost:8080/"
        },
        "id": "77y4cW8HTlsk",
        "outputId": "ccc4ecfe-862c-4b7f-b24e-b022bf118f65"
      },
      "outputs": [
        {
          "data": {
            "text/plain": [
              "['loss', 'root_mean_squared_error']"
            ]
          },
          "execution_count": 19,
          "metadata": {},
          "output_type": "execute_result"
        }
      ],
      "source": [
        "# to show the metrics that are defined for the model\n",
        "model.metrics_names"
      ]
    },
    {
      "cell_type": "code",
      "execution_count": null,
      "metadata": {
        "colab": {
          "base_uri": "https://localhost:8080/"
        },
        "id": "fF0kJfDEMVAC",
        "outputId": "4053905c-880b-4bb0-c335-d07717be0c97"
      },
      "outputs": [
        {
          "data": {
            "text/plain": [
              "0.9852453"
            ]
          },
          "execution_count": 20,
          "metadata": {},
          "output_type": "execute_result"
        }
      ],
      "source": [
        "# precision in train set\n",
        "m = ks.metrics.Precision()\n",
        "m.update_state(train.rating, predictions1)\n",
        "m.result().numpy()"
      ]
    },
    {
      "cell_type": "code",
      "execution_count": null,
      "metadata": {
        "colab": {
          "base_uri": "https://localhost:8080/"
        },
        "id": "gRGE10hDMMyw",
        "outputId": "7d790fe9-2673-4e64-f91a-e7e47387002b"
      },
      "outputs": [
        {
          "data": {
            "text/plain": [
              "0.98537064"
            ]
          },
          "execution_count": 21,
          "metadata": {},
          "output_type": "execute_result"
        }
      ],
      "source": [
        "# precision in test set\n",
        "m = ks.metrics.Precision()\n",
        "m.update_state(test.rating, predictions)\n",
        "m.result().numpy()"
      ]
    },
    {
      "cell_type": "markdown",
      "metadata": {
        "id": "Qy7PsONjT3s_"
      },
      "source": [
        "# Make recommendations for a given user"
      ]
    },
    {
      "cell_type": "code",
      "execution_count": null,
      "metadata": {
        "colab": {
          "base_uri": "https://localhost:8080/",
          "height": 206
        },
        "id": "9twxNaKUpM92",
        "outputId": "8621eabd-44bf-41ee-d831-e9dfe657a0ae"
      },
      "outputs": [
        {
          "data": {
            "text/html": [
              "<div>\n",
              "<style scoped>\n",
              "    .dataframe tbody tr th:only-of-type {\n",
              "        vertical-align: middle;\n",
              "    }\n",
              "\n",
              "    .dataframe tbody tr th {\n",
              "        vertical-align: top;\n",
              "    }\n",
              "\n",
              "    .dataframe thead th {\n",
              "        text-align: right;\n",
              "    }\n",
              "</style>\n",
              "<table border=\"1\" class=\"dataframe\">\n",
              "  <thead>\n",
              "    <tr style=\"text-align: right;\">\n",
              "      <th></th>\n",
              "      <th>user_id</th>\n",
              "      <th>app_name</th>\n",
              "      <th>rating</th>\n",
              "      <th>item_id</th>\n",
              "    </tr>\n",
              "  </thead>\n",
              "  <tbody>\n",
              "    <tr>\n",
              "      <th>0</th>\n",
              "      <td>6658</td>\n",
              "      <td>DRAGON BALL FighterZ</td>\n",
              "      <td>0.888889</td>\n",
              "      <td>268</td>\n",
              "    </tr>\n",
              "    <tr>\n",
              "      <th>1</th>\n",
              "      <td>7404</td>\n",
              "      <td>DRAGON BALL FighterZ</td>\n",
              "      <td>0.444444</td>\n",
              "      <td>268</td>\n",
              "    </tr>\n",
              "    <tr>\n",
              "      <th>2</th>\n",
              "      <td>7881</td>\n",
              "      <td>DRAGON BALL FighterZ</td>\n",
              "      <td>0.777778</td>\n",
              "      <td>268</td>\n",
              "    </tr>\n",
              "    <tr>\n",
              "      <th>3</th>\n",
              "      <td>14663</td>\n",
              "      <td>DRAGON BALL FighterZ</td>\n",
              "      <td>0.666667</td>\n",
              "      <td>268</td>\n",
              "    </tr>\n",
              "    <tr>\n",
              "      <th>4</th>\n",
              "      <td>3055</td>\n",
              "      <td>DRAGON BALL FighterZ</td>\n",
              "      <td>0.777778</td>\n",
              "      <td>268</td>\n",
              "    </tr>\n",
              "  </tbody>\n",
              "</table>\n",
              "</div>"
            ],
            "text/plain": [
              "   user_id              app_name    rating  item_id\n",
              "0     6658  DRAGON BALL FighterZ  0.888889      268\n",
              "1     7404  DRAGON BALL FighterZ  0.444444      268\n",
              "2     7881  DRAGON BALL FighterZ  0.777778      268\n",
              "3    14663  DRAGON BALL FighterZ  0.666667      268\n",
              "4     3055  DRAGON BALL FighterZ  0.777778      268"
            ]
          },
          "execution_count": 22,
          "metadata": {},
          "output_type": "execute_result"
        }
      ],
      "source": [
        "ratings_df.head()"
      ]
    },
    {
      "cell_type": "code",
      "execution_count": null,
      "metadata": {
        "colab": {
          "base_uri": "https://localhost:8080/"
        },
        "id": "RUFwTaUOouCg",
        "outputId": "a7a1e4dd-429e-460a-bdb2-3a9b26d54a54"
      },
      "outputs": [
        {
          "data": {
            "text/plain": [
              "{0: '20XX',\n",
              " 1: 'A Hat in Time',\n",
              " 2: 'Ancestors Legacy',\n",
              " 3: 'Far Cry 5',\n",
              " 4: 'Farm Manager 2018',\n",
              " 5: 'Farm Together',\n",
              " 6: 'Farming Simulator 19',\n",
              " 7: 'Finding Paradise',\n",
              " 8: 'Fishing: Barents Sea',\n",
              " 9: 'Football Manager 2019',\n",
              " 10: 'For Honor',\n",
              " 11: 'For The King',\n",
              " 12: 'Foundation',\n",
              " 13: 'Arma 3',\n",
              " 14: 'Freeman: Guerrilla Warfare',\n",
              " 15: 'Frostpunk',\n",
              " 16: 'GOD EATER 3',\n",
              " 17: 'GRIS',\n",
              " 18: \"Garry's Mod\",\n",
              " 19: 'Getting Over It with Bennett Foddy',\n",
              " 20: 'Ghost of a Tale',\n",
              " 21: 'Golf It!',\n",
              " 22: 'Grand Theft Auto V',\n",
              " 23: \"Grimm's Hollow\",\n",
              " 24: 'Artifact',\n",
              " 25: 'Guacamelee! Super Turbo Championship Edition',\n",
              " 26: 'Gunpoint',\n",
              " 27: 'HITMAN™ 2',\n",
              " 28: 'Hades',\n",
              " 29: 'Half-Life',\n",
              " 30: 'Half-Life 2: Episode Two',\n",
              " 31: 'Half-Life: Alyx',\n",
              " 32: 'Hearts of Iron IV',\n",
              " 33: 'Helltaker',\n",
              " 34: 'Heroes of Hammerwatch',\n",
              " 35: \"Assassin's Creed Odyssey\",\n",
              " 36: 'Hollow Knight',\n",
              " 37: 'Hotline Miami',\n",
              " 38: 'House Flipper',\n",
              " 39: 'Human: Fall Flat',\n",
              " 40: 'HuniePop',\n",
              " 41: 'Hunt Down The Freeman',\n",
              " 42: 'Hunt: Showdown',\n",
              " 43: 'Iconoclasts',\n",
              " 44: 'Identity',\n",
              " 45: 'Insurgency: Sandstorm',\n",
              " 46: \"Assassin's Creed Origins\",\n",
              " 47: 'Into the Breach',\n",
              " 48: 'Jurassic World Evolution',\n",
              " 49: 'Just Cause 3',\n",
              " 50: 'Just Cause 4',\n",
              " 51: 'Just Shapes & Beats',\n",
              " 52: 'Keep Talking and Nobody Explodes',\n",
              " 53: 'Kenshi',\n",
              " 54: 'Kingdom Come: Deliverance',\n",
              " 55: 'Kingdom Two Crowns',\n",
              " 56: 'Little Nightmares',\n",
              " 57: 'Avorion',\n",
              " 58: 'METAL GEAR SURVIVE',\n",
              " 59: 'MORDHAU',\n",
              " 60: 'Mark of the Ninja',\n",
              " 61: 'Middle-earth™: Shadow of War™',\n",
              " 62: 'Mirror',\n",
              " 63: 'Momodora: Reverie Under the Moonlight',\n",
              " 64: 'Monster Hunter: World',\n",
              " 65: 'Monster Prom',\n",
              " 66: 'Mount & Blade: Warband',\n",
              " 67: 'Mutant Year Zero: Road to Eden',\n",
              " 68: 'Axiom Verge',\n",
              " 69: 'My Time At Portia',\n",
              " 70: 'NBA 2K18',\n",
              " 71: 'NBA 2K19',\n",
              " 72: 'NBA 2K21',\n",
              " 73: 'Neon Hardcorps',\n",
              " 74: 'Nether',\n",
              " 75: 'Ni no Kuni™ II: Revenant Kingdom',\n",
              " 76: 'NieR:Automata™',\n",
              " 77: 'Night in the Woods',\n",
              " 78: 'Nioh: Complete Edition',\n",
              " 79: 'BATTALION 1944',\n",
              " 80: \"No Man's Sky\",\n",
              " 81: 'Northgard',\n",
              " 82: 'Nova Drift',\n",
              " 83: 'One Finger Death Punch',\n",
              " 84: 'OneShot',\n",
              " 85: 'Ori and the Will of the Wisps',\n",
              " 86: 'Outlast',\n",
              " 87: 'Overcooked! 2',\n",
              " 88: 'Oxygen Not Included',\n",
              " 89: 'BATTLETECH',\n",
              " 90: 'PAYDAY 2',\n",
              " 91: 'PC Building Simulator',\n",
              " 92: \"PLAYERUNKNOWN'S BATTLEGROUNDS\",\n",
              " 93: 'Papers, Please',\n",
              " 94: 'Pathfinder: Kingmaker',\n",
              " 95: 'People Playground',\n",
              " 96: 'Persona 4 Golden',\n",
              " 97: 'Phasmophobia',\n",
              " 98: 'Phoenix Wright: Ace Attorney Trilogy',\n",
              " 99: 'Pillars of Eternity II: Deadfire',\n",
              " 100: 'BERSERK and the Band of the Hawk',\n",
              " 101: 'Pit People',\n",
              " 102: 'PixARK',\n",
              " 103: 'Planet Coaster',\n",
              " 104: 'Pogostuck: Rage With Your Friends',\n",
              " 105: 'Portal 2',\n",
              " 106: 'Puyo Puyo™Tetris® ',\n",
              " 107: 'Raft',\n",
              " 108: 'Railway Empire',\n",
              " 109: 'Rapture Rejects',\n",
              " 110: 'Ravenfield',\n",
              " 111: 'A Short Hike',\n",
              " 112: 'Baba Is You',\n",
              " 113: 'Resident Evil 2',\n",
              " 114: 'Resident Evil 7 Biohazard',\n",
              " 115: 'RimWorld',\n",
              " 116: 'Rise of Industry',\n",
              " 117: 'Rise of the Tomb Raider',\n",
              " 118: 'Rocket League',\n",
              " 119: 'RollerCoaster Tycoon World',\n",
              " 120: 'Rules Of Survival',\n",
              " 121: 'Rust',\n",
              " 122: 'SCUM',\n",
              " 123: 'Banished',\n",
              " 124: 'SENRAN KAGURA ESTIVAL VERSUS',\n",
              " 125: 'SENRAN KAGURA Peach Beach Splash',\n",
              " 126: 'SOS',\n",
              " 127: 'SOULCALIBUR VI',\n",
              " 128: 'STAR WARS™ Empire at War: Gold Pack',\n",
              " 129: 'STEINS;GATE',\n",
              " 130: 'STEINS;GATE 0',\n",
              " 131: 'Saints Row: The Third',\n",
              " 132: 'Salt and Sanctuary',\n",
              " 133: 'Satisfactory',\n",
              " 134: 'Batman: Arkham Asylum GOTY Edition',\n",
              " 135: 'Secret of Mana',\n",
              " 136: 'Sekiro™: Shadows Die Twice',\n",
              " 137: 'Senren＊Banka',\n",
              " 138: 'Shadow Complex Remastered',\n",
              " 139: 'Shovel Knight: Treasure Trove',\n",
              " 140: \"Sid Meier's Civilization V\",\n",
              " 141: \"Sid Meier's Civilization VI\",\n",
              " 142: 'SimAirport',\n",
              " 143: 'Slay the Spire',\n",
              " 144: 'Slime Rancher',\n",
              " 145: 'Battle Royale Trainer',\n",
              " 146: 'Slipstream',\n",
              " 147: 'Sniper Elite 4',\n",
              " 148: 'South Park™: The Stick of Truth™',\n",
              " 149: 'Stardew Valley',\n",
              " 150: 'Staxel',\n",
              " 151: 'Stay Out',\n",
              " 152: 'Steel Division: Normandy 44',\n",
              " 153: 'Stellaris',\n",
              " 154: 'Streets of Rogue',\n",
              " 155: 'Styx: Shards of Darkness',\n",
              " 156: 'BattleBlock Theater',\n",
              " 157: 'Subnautica',\n",
              " 158: 'Super Hexagon',\n",
              " 159: 'Super Meat Boy',\n",
              " 160: 'Surviving Mars',\n",
              " 161: 'Sword Art Online: Fatal Bullet',\n",
              " 162: 'Tabletop Simulator',\n",
              " 163: 'Takedown: Red Sabre',\n",
              " 164: 'Tales of Berseria',\n",
              " 165: 'Terraria',\n",
              " 166: 'The Binding of Isaac',\n",
              " 167: 'BeamNG.drive',\n",
              " 168: 'The Binding of Isaac: Rebirth',\n",
              " 169: 'The Crew 2',\n",
              " 170: 'The Elder Scrolls Online',\n",
              " 171: 'The Elder Scrolls V: Skyrim',\n",
              " 172: 'The Elder Scrolls V: Skyrim Special Edition',\n",
              " 173: 'The End Is Nigh',\n",
              " 174: 'The Forest',\n",
              " 175: 'The Henry Stickmin Collection',\n",
              " 176: 'The Legend of Heroes: Trails of Cold Steel II',\n",
              " 177: 'The Room',\n",
              " 178: 'Beat Saber',\n",
              " 179: 'The Room Two',\n",
              " 180: 'The Sims(TM) 3',\n",
              " 181: 'The Walking Dead',\n",
              " 182: 'The Wild Eight',\n",
              " 183: 'The Witcher 3: Wild Hunt',\n",
              " 184: 'The Wolf Among Us',\n",
              " 185: 'There Is No Game: Wrong Dimension',\n",
              " 186: 'They Are Billions',\n",
              " 187: 'Thief Simulator',\n",
              " 188: 'Thimbleweed Park',\n",
              " 189: 'BioShock Infinite',\n",
              " 190: 'Titan Souls',\n",
              " 191: 'To the Moon',\n",
              " 192: \"Tom Clancy's Ghost Recon® Wildlands\",\n",
              " 193: \"Tom Clancy's Rainbow Six Siege\",\n",
              " 194: 'Tomb Raider',\n",
              " 195: 'Torment: Tides of Numenera',\n",
              " 196: 'Total War Saga: Thrones of Britannia',\n",
              " 197: 'Total War: ROME II - Emperor Edition',\n",
              " 198: 'Total War: THREE KINGDOMS',\n",
              " 199: 'Total War: WARHAMMER',\n",
              " 200: 'Black Desert Online',\n",
              " 201: 'Total War: WARHAMMER II',\n",
              " 202: 'Totally Accurate Battle Simulator',\n",
              " 203: 'Totally Accurate Battlegrounds',\n",
              " 204: 'Toukiden 2',\n",
              " 205: 'Townscaper',\n",
              " 206: 'Trailmakers',\n",
              " 207: 'Train Sim World® 2020',\n",
              " 208: 'Two Point Hospital',\n",
              " 209: 'ULTRAKILL',\n",
              " 210: 'Ultimate Marvel vs. Capcom 3',\n",
              " 211: 'Black Mesa',\n",
              " 212: 'Umbrella Corps',\n",
              " 213: 'Undertale',\n",
              " 214: 'Urban Empire',\n",
              " 215: 'VA-11 Hall-A: Cyberpunk Bartender Action',\n",
              " 216: 'Vampyr',\n",
              " 217: 'Void Bastards',\n",
              " 218: 'Volgarr the Viking',\n",
              " 219: 'WWE 2K17',\n",
              " 220: 'WWE 2K19',\n",
              " 221: 'WWE 2K20',\n",
              " 222: 'A Way Out',\n",
              " 223: 'Blackwake',\n",
              " 224: 'Wallpaper Engine',\n",
              " 225: 'Warhammer 40,000: Dawn of War III',\n",
              " 226: 'Warhammer 40,000: Mechanicus',\n",
              " 227: 'Warhammer: Vermintide 2',\n",
              " 228: 'Watch_Dogs 2',\n",
              " 229: 'We Were Here Too',\n",
              " 230: 'Wolfenstein: Youngblood',\n",
              " 231: 'X Rebirth',\n",
              " 232: 'X-Blades',\n",
              " 233: 'X-Plane 11',\n",
              " 234: 'Bless Online',\n",
              " 235: 'XCOM 2',\n",
              " 236: 'Yakuza 0',\n",
              " 237: 'Youtubers Life',\n",
              " 238: 'theHunter: Call of the Wild™',\n",
              " 239: '三国群英传8 Heroes of the Three Kingdoms 8',\n",
              " 240: 'Bloons TD 6',\n",
              " 241: 'Bomber Crew',\n",
              " 242: 'Borderlands 3',\n",
              " 243: 'Broforce',\n",
              " 244: 'Budget Cuts',\n",
              " 245: 'CHRONO TRIGGER',\n",
              " 246: 'Call of Duty: Infinite Warfare',\n",
              " 247: 'Call of Duty: WWII',\n",
              " 248: 'ARK: Survival Evolved',\n",
              " 249: 'Castle Crashers',\n",
              " 250: 'Cave Story+',\n",
              " 251: 'Celeste',\n",
              " 252: 'Cities: Skylines',\n",
              " 253: 'Clicker Heroes 2',\n",
              " 254: 'Cold Waters',\n",
              " 255: 'Conan Exiles',\n",
              " 256: 'Counter-Strike: Source',\n",
              " 257: 'Crash Bandicoot™ N. Sane Trilogy',\n",
              " 258: 'Crusader Kings III',\n",
              " 259: 'ATLAS',\n",
              " 260: 'Cube World',\n",
              " 261: 'Cuphead',\n",
              " 262: 'Cyberdimension Neptunia: 4 Goddesses Online',\n",
              " 263: 'DARK SOULS™ III',\n",
              " 264: 'DARK SOULS™: REMASTERED',\n",
              " 265: 'DEATH STRANDING',\n",
              " 266: 'DOOM',\n",
              " 267: 'DOOM Eternal',\n",
              " 268: 'DRAGON BALL FighterZ',\n",
              " 269: 'DRAGON QUEST HEROES™ II',\n",
              " 270: 'Age of Empires II (2013)',\n",
              " 271: 'DUSK',\n",
              " 272: 'DYNASTY WARRIORS 9',\n",
              " 273: 'Danganronpa 2: Goodbye Despair',\n",
              " 274: 'Danganronpa: Trigger Happy Havoc',\n",
              " 275: 'Darkest Dungeon®',\n",
              " 276: 'Darksiders III',\n",
              " 277: 'Day of Infamy',\n",
              " 278: 'Dead Cells',\n",
              " 279: 'Dead Rising 4',\n",
              " 280: 'Dead by Daylight',\n",
              " 281: 'Age of Empires: Definitive Edition',\n",
              " 282: 'Deep Rock Galactic',\n",
              " 283: 'Desolate',\n",
              " 284: 'Detention',\n",
              " 285: 'Deus Ex: The Fall',\n",
              " 286: 'Devil May Cry HD Collection',\n",
              " 287: 'DiRT 4',\n",
              " 288: 'Dishonored',\n",
              " 289: 'Divinity: Original Sin 2',\n",
              " 290: 'Doki Doki Literature Club',\n",
              " 291: \"Don't Escape: 4 Days to Survive\",\n",
              " 292: 'American Truck Simulator',\n",
              " 293: \"Don't Starve\",\n",
              " 294: \"Don't Starve Together\",\n",
              " 295: 'Down To One',\n",
              " 296: 'Dragon Cliff 龙崖',\n",
              " 297: 'Duck Game',\n",
              " 298: 'Due Process',\n",
              " 299: 'Dungreed',\n",
              " 300: 'Dying Light',\n",
              " 301: 'Eco',\n",
              " 302: 'Enter the Gungeon',\n",
              " 303: 'Among Us',\n",
              " 304: 'Euro Truck Simulator 2',\n",
              " 305: 'Europa Universalis IV',\n",
              " 306: 'FAR: Lone Sails',\n",
              " 307: 'FINAL FANTASY XII THE ZODIAC AGE',\n",
              " 308: 'FINAL FANTASY XIV Online',\n",
              " 309: 'FINAL FANTASY XV WINDOWS EDITION',\n",
              " 310: 'FTL: Faster Than Light',\n",
              " 311: 'Factorio',\n",
              " 312: 'Fairy Fencer F Advent Dark Force',\n",
              " 313: 'Fallout 4'}"
            ]
          },
          "execution_count": 23,
          "metadata": {},
          "output_type": "execute_result"
        }
      ],
      "source": [
        "# map item name and id together and store in the dictionary\n",
        "ratingslookup = dict(zip(ratings_df[\"item_id\"],ratings_df[\"app_name\"]))\n",
        "ratingslookup"
      ]
    },
    {
      "cell_type": "code",
      "execution_count": null,
      "metadata": {
        "colab": {
          "base_uri": "https://localhost:8080/"
        },
        "id": "s36_rSBNTrN9",
        "outputId": "7d6af8cd-f1a2-4f41-faa2-8ee878fba86a"
      },
      "outputs": [
        {
          "data": {
            "text/plain": [
              "(315, 3)"
            ]
          },
          "execution_count": 24,
          "metadata": {},
          "output_type": "execute_result"
        }
      ],
      "source": [
        "# Extract the item embeddings from the trained model\n",
        "item_em = model.get_layer('item_embedding')\n",
        "item_em_weights = item_em.get_weights()[0]\n",
        "item_em_weights.shape"
      ]
    },
    {
      "cell_type": "code",
      "execution_count": null,
      "metadata": {
        "id": "F_gzco2jTrQc"
      },
      "outputs": [],
      "source": [
        "#save two tsv files: one containing the embedding weights, and the other containing the corresponding item title.\n",
        "out_v = open('vecs.tsv', 'w')\n",
        "out_m = open('meta.tsv', 'w',encoding='utf-8')\n",
        "iids =list(ratings_df.item_id.unique())\n",
        "for i in iids:\n",
        "    title = ratingslookup[i]\n",
        "    embeddings = item_em_weights[i]\n",
        "    out_m.write(title + \"\\n\")\n",
        "    out_v.write('\\t'.join([str(x) for x in embeddings]) + \"\\n\")\n",
        "out_v.close()\n",
        "out_m.close()"
      ]
    },
    {
      "cell_type": "code",
      "execution_count": null,
      "metadata": {
        "colab": {
          "base_uri": "https://localhost:8080/"
        },
        "id": "fjiexp1kPwmO",
        "outputId": "4990734a-d70c-4666-d0d7-ca1169b6d752"
      },
      "outputs": [
        {
          "data": {
            "text/plain": [
              "array([ 6658,  7404,  7881, ...,  5389, 10348,  2047])"
            ]
          },
          "execution_count": 26,
          "metadata": {},
          "output_type": "execute_result"
        }
      ],
      "source": [
        "# get unique user id\n",
        "ratings_df['user_id'].unique()"
      ]
    },
    {
      "cell_type": "code",
      "execution_count": null,
      "metadata": {
        "colab": {
          "base_uri": "https://localhost:8080/"
        },
        "id": "D68yE59pT9rc",
        "outputId": "9550f032-989a-443b-9b6e-a661a30b6e4e"
      },
      "outputs": [
        {
          "data": {
            "text/plain": [
              "array([[0.6999063 ],\n",
              "       [0.7094031 ],\n",
              "       [0.68235713],\n",
              "       [0.708156  ],\n",
              "       [0.7094471 ],\n",
              "       [0.5870518 ],\n",
              "       [0.7170944 ],\n",
              "       [0.69974875],\n",
              "       [0.7110105 ],\n",
              "       [0.69949424],\n",
              "       [0.672351  ],\n",
              "       [0.6885595 ],\n",
              "       [0.676407  ],\n",
              "       [0.66843134],\n",
              "       [0.7022263 ],\n",
              "       [0.6755774 ],\n",
              "       [0.66512996],\n",
              "       [0.58685607],\n",
              "       [0.70071155],\n",
              "       [0.6601502 ],\n",
              "       [0.6635344 ],\n",
              "       [0.6937922 ],\n",
              "       [0.6895443 ],\n",
              "       [0.67869186],\n",
              "       [0.6984974 ],\n",
              "       [0.6721164 ],\n",
              "       [0.6792469 ],\n",
              "       [0.6880293 ],\n",
              "       [0.6593358 ],\n",
              "       [0.6949618 ],\n",
              "       [0.66598034],\n",
              "       [0.69310004],\n",
              "       [0.66630894],\n",
              "       [0.5868697 ],\n",
              "       [0.5960936 ],\n",
              "       [0.6345382 ],\n",
              "       [0.70014286],\n",
              "       [0.6378091 ],\n",
              "       [0.71144474],\n",
              "       [0.6008852 ],\n",
              "       [0.70265955],\n",
              "       [0.59370685],\n",
              "       [0.70234287],\n",
              "       [0.6985659 ],\n",
              "       [0.67422295],\n",
              "       [0.6529652 ],\n",
              "       [0.69122374],\n",
              "       [0.6882893 ],\n",
              "       [0.65601647],\n",
              "       [0.68679523],\n",
              "       [0.5937266 ],\n",
              "       [0.58946425],\n",
              "       [0.69699365],\n",
              "       [0.68714803],\n",
              "       [0.7073544 ],\n",
              "       [0.683395  ],\n",
              "       [0.5999057 ],\n",
              "       [0.68388045],\n",
              "       [0.59765667],\n",
              "       [0.7138134 ],\n",
              "       [0.6821687 ],\n",
              "       [0.6822284 ],\n",
              "       [0.7034961 ],\n",
              "       [0.69788796],\n",
              "       [0.58762026],\n",
              "       [0.704175  ],\n",
              "       [0.6959245 ],\n",
              "       [0.58783007],\n",
              "       [0.67822194],\n",
              "       [0.6964242 ],\n",
              "       [0.6940975 ],\n",
              "       [0.6674587 ],\n",
              "       [0.6523228 ],\n",
              "       [0.5876015 ],\n",
              "       [0.6994965 ],\n",
              "       [0.68745244],\n",
              "       [0.6476831 ],\n",
              "       [0.7105265 ],\n",
              "       [0.70842457],\n",
              "       [0.66598344],\n",
              "       [0.65214896],\n",
              "       [0.7023428 ],\n",
              "       [0.6711714 ],\n",
              "       [0.7104622 ],\n",
              "       [0.6319923 ],\n",
              "       [0.5868386 ],\n",
              "       [0.66932887],\n",
              "       [0.70741165],\n",
              "       [0.71524554],\n",
              "       [0.6980589 ],\n",
              "       [0.6409098 ],\n",
              "       [0.7028494 ],\n",
              "       [0.6777191 ],\n",
              "       [0.6816355 ],\n",
              "       [0.70250547],\n",
              "       [0.6916448 ],\n",
              "       [0.7118294 ],\n",
              "       [0.6838909 ],\n",
              "       [0.6431773 ],\n",
              "       [0.7181634 ],\n",
              "       [0.71692765],\n",
              "       [0.7134817 ],\n",
              "       [0.5889298 ],\n",
              "       [0.6431697 ],\n",
              "       [0.6532968 ],\n",
              "       [0.67613524],\n",
              "       [0.6471306 ],\n",
              "       [0.6830622 ],\n",
              "       [0.6789567 ],\n",
              "       [0.7048054 ],\n",
              "       [0.5869603 ],\n",
              "       [0.63365555],\n",
              "       [0.6701222 ],\n",
              "       [0.6728034 ],\n",
              "       [0.6999099 ],\n",
              "       [0.65697557],\n",
              "       [0.599778  ],\n",
              "       [0.66126394],\n",
              "       [0.6964784 ],\n",
              "       [0.7135571 ],\n",
              "       [0.709291  ],\n",
              "       [0.67465615],\n",
              "       [0.5880305 ],\n",
              "       [0.6867656 ],\n",
              "       [0.71061724],\n",
              "       [0.7009858 ],\n",
              "       [0.6855689 ],\n",
              "       [0.6967347 ],\n",
              "       [0.6765679 ],\n",
              "       [0.6720887 ],\n",
              "       [0.6881752 ],\n",
              "       [0.70907134],\n",
              "       [0.6645617 ],\n",
              "       [0.67914206],\n",
              "       [0.70703244],\n",
              "       [0.6970223 ],\n",
              "       [0.6859727 ],\n",
              "       [0.7060263 ],\n",
              "       [0.6900935 ],\n",
              "       [0.7027573 ],\n",
              "       [0.7156473 ],\n",
              "       [0.70142984],\n",
              "       [0.68977356],\n",
              "       [0.67759424],\n",
              "       [0.71351105],\n",
              "       [0.66392386],\n",
              "       [0.7020154 ],\n",
              "       [0.6965376 ],\n",
              "       [0.6793467 ],\n",
              "       [0.66293865],\n",
              "       [0.68947977],\n",
              "       [0.6939808 ],\n",
              "       [0.70136243],\n",
              "       [0.681567  ],\n",
              "       [0.67876196],\n",
              "       [0.6910217 ],\n",
              "       [0.58770967],\n",
              "       [0.58709484],\n",
              "       [0.6425377 ],\n",
              "       [0.7016498 ],\n",
              "       [0.68032855],\n",
              "       [0.697559  ],\n",
              "       [0.6886502 ],\n",
              "       [0.65331644],\n",
              "       [0.5874037 ],\n",
              "       [0.7051385 ],\n",
              "       [0.6913676 ],\n",
              "       [0.61768687],\n",
              "       [0.7050238 ],\n",
              "       [0.65149194],\n",
              "       [0.6877955 ],\n",
              "       [0.7108872 ],\n",
              "       [0.6775248 ],\n",
              "       [0.7081088 ],\n",
              "       [0.59448844],\n",
              "       [0.709989  ],\n",
              "       [0.626825  ],\n",
              "       [0.68327135],\n",
              "       [0.6981398 ],\n",
              "       [0.69606763],\n",
              "       [0.69931346],\n",
              "       [0.6677701 ],\n",
              "       [0.7091111 ],\n",
              "       [0.6219685 ],\n",
              "       [0.7043176 ],\n",
              "       [0.6978447 ],\n",
              "       [0.71063805],\n",
              "       [0.682988  ],\n",
              "       [0.69998044],\n",
              "       [0.6983883 ],\n",
              "       [0.67644143],\n",
              "       [0.65056306],\n",
              "       [0.69970566],\n",
              "       [0.6996539 ],\n",
              "       [0.7116577 ],\n",
              "       [0.62487346],\n",
              "       [0.710006  ],\n",
              "       [0.6471087 ],\n",
              "       [0.6683546 ],\n",
              "       [0.67664856],\n",
              "       [0.7056378 ],\n",
              "       [0.6161307 ],\n",
              "       [0.69616485],\n",
              "       [0.63486683],\n",
              "       [0.61338043],\n",
              "       [0.62503576],\n",
              "       [0.6891893 ],\n",
              "       [0.6814482 ],\n",
              "       [0.6875117 ],\n",
              "       [0.71470964],\n",
              "       [0.6685338 ],\n",
              "       [0.6826615 ],\n",
              "       [0.7031592 ],\n",
              "       [0.630524  ],\n",
              "       [0.68885905],\n",
              "       [0.7045745 ],\n",
              "       [0.677335  ],\n",
              "       [0.68815243],\n",
              "       [0.71196806],\n",
              "       [0.6987292 ],\n",
              "       [0.6095485 ],\n",
              "       [0.69850934],\n",
              "       [0.6991129 ],\n",
              "       [0.6448009 ],\n",
              "       [0.682175  ],\n",
              "       [0.71560717],\n",
              "       [0.69310164],\n",
              "       [0.7122071 ],\n",
              "       [0.6831249 ],\n",
              "       [0.6640122 ],\n",
              "       [0.71334636],\n",
              "       [0.70856136],\n",
              "       [0.70446336],\n",
              "       [0.68503654],\n",
              "       [0.68222463],\n",
              "       [0.6846062 ],\n",
              "       [0.69569546],\n",
              "       [0.61299586],\n",
              "       [0.60783595],\n",
              "       [0.7030373 ],\n",
              "       [0.60101944],\n",
              "       [0.69785184],\n",
              "       [0.69062924],\n",
              "       [0.6991792 ],\n",
              "       [0.6911659 ],\n",
              "       [0.70435   ],\n",
              "       [0.58842236],\n",
              "       [0.6931058 ],\n",
              "       [0.68164206],\n",
              "       [0.70189196],\n",
              "       [0.71032375],\n",
              "       [0.6921022 ],\n",
              "       [0.6483482 ],\n",
              "       [0.62209845],\n",
              "       [0.6950426 ],\n",
              "       [0.69309807],\n",
              "       [0.6274686 ],\n",
              "       [0.62578744],\n",
              "       [0.71110153],\n",
              "       [0.589358  ],\n",
              "       [0.67273676],\n",
              "       [0.70832795],\n",
              "       [0.69108635],\n",
              "       [0.69663787],\n",
              "       [0.6683274 ],\n",
              "       [0.7133584 ],\n",
              "       [0.6896414 ],\n",
              "       [0.685844  ],\n",
              "       [0.69989145],\n",
              "       [0.7031158 ],\n",
              "       [0.5872985 ],\n",
              "       [0.7021228 ],\n",
              "       [0.69758946],\n",
              "       [0.70383626],\n",
              "       [0.7117357 ],\n",
              "       [0.69895357],\n",
              "       [0.70533156],\n",
              "       [0.6973706 ],\n",
              "       [0.7038868 ],\n",
              "       [0.69836247],\n",
              "       [0.6694444 ],\n",
              "       [0.69715583],\n",
              "       [0.5875015 ],\n",
              "       [0.6981805 ],\n",
              "       [0.7001772 ],\n",
              "       [0.5868379 ],\n",
              "       [0.6900349 ],\n",
              "       [0.6445075 ],\n",
              "       [0.61845726],\n",
              "       [0.5899739 ],\n",
              "       [0.68218505],\n",
              "       [0.59472245],\n",
              "       [0.7182819 ],\n",
              "       [0.6611602 ],\n",
              "       [0.6955637 ],\n",
              "       [0.71233195],\n",
              "       [0.6975093 ],\n",
              "       [0.7103319 ],\n",
              "       [0.6983017 ],\n",
              "       [0.6611243 ],\n",
              "       [0.69283825],\n",
              "       [0.6980089 ],\n",
              "       [0.69428664],\n",
              "       [0.65143573],\n",
              "       [0.7071816 ],\n",
              "       [0.7022365 ],\n",
              "       [0.71303064],\n",
              "       [0.696675  ],\n",
              "       [0.6698472 ],\n",
              "       [0.6397126 ],\n",
              "       [0.6721875 ],\n",
              "       [0.6853122 ],\n",
              "       [0.68211037],\n",
              "       [0.6890857 ]], dtype=float32)"
            ]
          },
          "execution_count": 51,
          "metadata": {},
          "output_type": "execute_result"
        }
      ],
      "source": [
        "#select a target user and make ratings predictions for all items\n",
        "targetuser = 6658\n",
        "user = np.array([targetuser for i in range(len(iids))]) # get a duplicate userid for every possible item\n",
        "pred = model.predict([np.array(iids), user])\n",
        "pred"
      ]
    },
    {
      "cell_type": "code",
      "execution_count": null,
      "metadata": {
        "colab": {
          "base_uri": "https://localhost:8080/",
          "height": 380
        },
        "id": "hREu7aGOT9t8",
        "outputId": "d5644e90-2d74-42eb-c45f-ccbb105090d5"
      },
      "outputs": [
        {
          "name": "stdout",
          "output_type": "stream",
          "text": [
            "[292  99   6 100 140 225  88 209  59 119]\n"
          ]
        },
        {
          "data": {
            "text/html": [
              "<div>\n",
              "<style scoped>\n",
              "    .dataframe tbody tr th:only-of-type {\n",
              "        vertical-align: middle;\n",
              "    }\n",
              "\n",
              "    .dataframe tbody tr th {\n",
              "        vertical-align: top;\n",
              "    }\n",
              "\n",
              "    .dataframe thead th {\n",
              "        text-align: right;\n",
              "    }\n",
              "</style>\n",
              "<table border=\"1\" class=\"dataframe\">\n",
              "  <thead>\n",
              "    <tr style=\"text-align: right;\">\n",
              "      <th></th>\n",
              "      <th>item_id</th>\n",
              "      <th>app_name</th>\n",
              "    </tr>\n",
              "  </thead>\n",
              "  <tbody>\n",
              "    <tr>\n",
              "      <th>23191</th>\n",
              "      <td>6</td>\n",
              "      <td>Farming Simulator 19</td>\n",
              "    </tr>\n",
              "    <tr>\n",
              "      <th>60600</th>\n",
              "      <td>140</td>\n",
              "      <td>Sid Meier's Civilization V</td>\n",
              "    </tr>\n",
              "    <tr>\n",
              "      <th>66482</th>\n",
              "      <td>99</td>\n",
              "      <td>Pillars of Eternity II: Deadfire</td>\n",
              "    </tr>\n",
              "    <tr>\n",
              "      <th>80274</th>\n",
              "      <td>292</td>\n",
              "      <td>American Truck Simulator</td>\n",
              "    </tr>\n",
              "    <tr>\n",
              "      <th>111671</th>\n",
              "      <td>119</td>\n",
              "      <td>RollerCoaster Tycoon World</td>\n",
              "    </tr>\n",
              "    <tr>\n",
              "      <th>145378</th>\n",
              "      <td>100</td>\n",
              "      <td>BERSERK and the Band of the Hawk</td>\n",
              "    </tr>\n",
              "    <tr>\n",
              "      <th>214303</th>\n",
              "      <td>209</td>\n",
              "      <td>ULTRAKILL</td>\n",
              "    </tr>\n",
              "    <tr>\n",
              "      <th>220671</th>\n",
              "      <td>59</td>\n",
              "      <td>MORDHAU</td>\n",
              "    </tr>\n",
              "    <tr>\n",
              "      <th>233552</th>\n",
              "      <td>225</td>\n",
              "      <td>Warhammer 40,000: Dawn of War III</td>\n",
              "    </tr>\n",
              "    <tr>\n",
              "      <th>246904</th>\n",
              "      <td>88</td>\n",
              "      <td>Oxygen Not Included</td>\n",
              "    </tr>\n",
              "  </tbody>\n",
              "</table>\n",
              "</div>"
            ],
            "text/plain": [
              "        item_id                           app_name\n",
              "23191         6               Farming Simulator 19\n",
              "60600       140         Sid Meier's Civilization V\n",
              "66482        99   Pillars of Eternity II: Deadfire\n",
              "80274       292           American Truck Simulator\n",
              "111671      119         RollerCoaster Tycoon World\n",
              "145378      100   BERSERK and the Band of the Hawk\n",
              "214303      209                          ULTRAKILL\n",
              "220671       59                            MORDHAU\n",
              "233552      225  Warhammer 40,000: Dawn of War III\n",
              "246904       88                Oxygen Not Included"
            ]
          },
          "execution_count": 52,
          "metadata": {},
          "output_type": "execute_result"
        }
      ],
      "source": [
        "#sort the rating predictions, and retrieve the index of the highest 5. \n",
        "pred = pred.reshape(-1) #reshape to single dimension\n",
        "preditem_idxs = (-pred).argsort()[0:10]\n",
        "print(preditem_idxs)\n",
        "\n",
        "# # display the recommendations\n",
        "# for idx in preditem_idxs:\n",
        "#   print(ratings_df[ratings_df.item_id == idx][[\"item_id\",\"app_name\"]].drop_duplicates())\n",
        "\n",
        "df_tmp = ratings_df[ratings_df['item_id'].isin(preditem_idxs)][[\"item_id\",\"app_name\"]].drop_duplicates()\n",
        "df_tmp"
      ]
    },
    {
      "cell_type": "code",
      "execution_count": null,
      "metadata": {
        "colab": {
          "base_uri": "https://localhost:8080/",
          "height": 415
        },
        "id": "s_oTrupPT9xE",
        "outputId": "a3bd6abe-9954-4999-dc68-c4ba0eb5a9d3"
      },
      "outputs": [
        {
          "name": "stdout",
          "output_type": "stream",
          "text": [
            "\n",
            "Items with high ratings from the target user\n",
            " ========================================\n"
          ]
        },
        {
          "data": {
            "text/html": [
              "<div>\n",
              "<style scoped>\n",
              "    .dataframe tbody tr th:only-of-type {\n",
              "        vertical-align: middle;\n",
              "    }\n",
              "\n",
              "    .dataframe tbody tr th {\n",
              "        vertical-align: top;\n",
              "    }\n",
              "\n",
              "    .dataframe thead th {\n",
              "        text-align: right;\n",
              "    }\n",
              "</style>\n",
              "<table border=\"1\" class=\"dataframe\">\n",
              "  <thead>\n",
              "    <tr style=\"text-align: right;\">\n",
              "      <th></th>\n",
              "      <th>app_name</th>\n",
              "    </tr>\n",
              "  </thead>\n",
              "  <tbody>\n",
              "    <tr>\n",
              "      <th>287731</th>\n",
              "      <td>HITMAN™ 2</td>\n",
              "    </tr>\n",
              "    <tr>\n",
              "      <th>0</th>\n",
              "      <td>DRAGON BALL FighterZ</td>\n",
              "    </tr>\n",
              "    <tr>\n",
              "      <th>6597</th>\n",
              "      <td>Wallpaper Engine</td>\n",
              "    </tr>\n",
              "    <tr>\n",
              "      <th>34039</th>\n",
              "      <td>Middle-earth™: Shadow of War™</td>\n",
              "    </tr>\n",
              "    <tr>\n",
              "      <th>103097</th>\n",
              "      <td>Grand Theft Auto V</td>\n",
              "    </tr>\n",
              "    <tr>\n",
              "      <th>19597</th>\n",
              "      <td>NieR:Automata™</td>\n",
              "    </tr>\n",
              "    <tr>\n",
              "      <th>58238</th>\n",
              "      <td>Rise of the Tomb Raider</td>\n",
              "    </tr>\n",
              "    <tr>\n",
              "      <th>66770</th>\n",
              "      <td>Tom Clancy's Ghost Recon® Wildlands</td>\n",
              "    </tr>\n",
              "    <tr>\n",
              "      <th>119173</th>\n",
              "      <td>PLAYERUNKNOWN'S BATTLEGROUNDS</td>\n",
              "    </tr>\n",
              "    <tr>\n",
              "      <th>242622</th>\n",
              "      <td>Assassin's Creed Origins</td>\n",
              "    </tr>\n",
              "  </tbody>\n",
              "</table>\n",
              "</div>"
            ],
            "text/plain": [
              "                                   app_name\n",
              "287731                            HITMAN™ 2\n",
              "0                      DRAGON BALL FighterZ\n",
              "6597                       Wallpaper Engine\n",
              "34039         Middle-earth™: Shadow of War™\n",
              "103097                   Grand Theft Auto V\n",
              "19597                        NieR:Automata™\n",
              "58238               Rise of the Tomb Raider\n",
              "66770   Tom Clancy's Ghost Recon® Wildlands\n",
              "119173        PLAYERUNKNOWN'S BATTLEGROUNDS\n",
              "242622             Assassin's Creed Origins"
            ]
          },
          "execution_count": 57,
          "metadata": {},
          "output_type": "execute_result"
        }
      ],
      "source": [
        "# for comparison, look at the items the target has rated most highly in the past\n",
        "print(\"\\nItems with high ratings from the target user\\n\",\"=\"*40)\n",
        "toprated_itemids = ratings_df[ratings_df.user_id == targetuser].sort_values(by=['rating'], ascending=False).head(10).app_name\n",
        "pd.DataFrame(toprated_itemids)"
      ]
    }
  ],
  "metadata": {
    "colab": {
      "collapsed_sections": [],
      "name": "Steam_NCF.ipynb",
      "provenance": [],
      "authorship_tag": "ABX9TyOouJEdHrIn7pUwk2D+58AL"
    },
    "kernelspec": {
      "display_name": "Python 3",
      "name": "python3"
    },
    "language_info": {
      "name": "python"
    }
  },
  "nbformat": 4,
  "nbformat_minor": 0
}